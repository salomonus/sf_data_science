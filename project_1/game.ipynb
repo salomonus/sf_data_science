{
 "cells": [
  {
   "cell_type": "markdown",
   "id": "4554ae76",
   "metadata": {},
   "source": [
    "# Игра в угадай число"
   ]
  },
  {
   "cell_type": "code",
   "execution_count": 2,
   "id": "ddd7301c",
   "metadata": {},
   "outputs": [],
   "source": [
    "import numpy as np"
   ]
  },
  {
   "cell_type": "markdown",
   "id": "2493cebe",
   "metadata": {},
   "source": [
    "### Угадай рандомно"
   ]
  },
  {
   "cell_type": "code",
   "execution_count": 3,
   "id": "6332f97b",
   "metadata": {},
   "outputs": [],
   "source": [
    "from game_v2 import score_game, random_predict"
   ]
  },
  {
   "cell_type": "code",
   "execution_count": 4,
   "id": "c13da0c9",
   "metadata": {},
   "outputs": [
    {
     "name": "stdout",
     "output_type": "stream",
     "text": [
      "Ваш алгоритм угадывает число в среднем за: 101 попыток\n"
     ]
    },
    {
     "data": {
      "text/plain": [
       "101"
      ]
     },
     "execution_count": 4,
     "metadata": {},
     "output_type": "execute_result"
    }
   ],
   "source": [
    "score_game(random_predict)"
   ]
  },
  {
   "cell_type": "code",
   "execution_count": null,
   "id": "d5b13979",
   "metadata": {},
   "outputs": [],
   "source": []
  }
 ],
 "metadata": {
  "kernelspec": {
   "display_name": "Python 3",
   "language": "python",
   "name": "python3"
  }
 },
 "nbformat": 4,
 "nbformat_minor": 5
}
